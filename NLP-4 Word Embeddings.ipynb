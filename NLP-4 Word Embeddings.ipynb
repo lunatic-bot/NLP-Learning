{
 "cells": [
  {
   "cell_type": "code",
   "execution_count": null,
   "id": "0a77eeae",
   "metadata": {},
   "outputs": [],
   "source": [
    "## word embeddings\n",
    "\n",
    "## word2vec\n",
    "\n",
    "## CBOW - continuous bag of words\n",
    "\n",
    "\n",
    "## Skip gram"
   ]
  }
 ],
 "metadata": {
  "language_info": {
   "name": "python"
  }
 },
 "nbformat": 4,
 "nbformat_minor": 5
}
