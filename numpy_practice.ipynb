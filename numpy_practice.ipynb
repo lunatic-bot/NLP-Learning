{
 "cells": [
  {
   "cell_type": "code",
   "execution_count": 1,
   "id": "4110bdc3",
   "metadata": {},
   "outputs": [],
   "source": [
    "import numpy as np"
   ]
  },
  {
   "cell_type": "code",
   "execution_count": 9,
   "id": "eb196340",
   "metadata": {},
   "outputs": [],
   "source": [
    "# Player IDs (10 players)\n",
    "players = np.arange(1, 11)\n",
    "#random points scored in 5 games (10 players × 5 games)\n",
    "points = np.random.randint(0, 30, size=(10,5))"
   ]
  },
  {
   "cell_type": "code",
   "execution_count": 11,
   "id": "7bb332b0",
   "metadata": {},
   "outputs": [
    {
     "name": "stdout",
     "output_type": "stream",
     "text": [
      "Players: [ 1  2  3  4  5  6  7  8  9 10]\n",
      "Points:\n",
      " [[ 4  9 24 10  9]\n",
      " [ 8  1 16  4 26]\n",
      " [26 17 18 17 19]\n",
      " [ 8 27 21 28 26]\n",
      " [23  2  6 11  4]\n",
      " [ 5  8 24 28  7]\n",
      " [21 14 22  5  5]\n",
      " [19 29 23  8 17]\n",
      " [15  4 22 13 27]\n",
      " [24  7 25 17  3]]\n",
      "Shape :  (10, 5) Size :  50 Dtype: int32\n"
     ]
    }
   ],
   "source": [
    "print(\"Players:\", players)\n",
    "print(\"Points:\\n\", points)\n",
    "print(\"Shape : \", points.shape, \"Size : \", points.size, \"Dtype:\", points.dtype)"
   ]
  },
  {
   "cell_type": "code",
   "execution_count": 12,
   "id": "b2d75272",
   "metadata": {},
   "outputs": [
    {
     "name": "stdout",
     "output_type": "stream",
     "text": [
      "Points of player 1: [ 4  9 24 10  9]\n",
      "Points in game 3 (all players): [24 16 18 21  6 24 22 23 22 25]\n",
      "Points of players 1–3 in games 2–4:\n",
      " [[ 9 24 10]\n",
      " [ 1 16  4]\n",
      " [17 18 17]]\n"
     ]
    }
   ],
   "source": [
    "print(\"Points of player 1:\", points[0])\n",
    "print(\"Points in game 3 (all players):\", points[:, 2])\n",
    "print(\"Points of players 1–3 in games 2–4:\\n\", points[0:3, 1:4])"
   ]
  },
  {
   "cell_type": "code",
   "execution_count": null,
   "id": "afe32ef4",
   "metadata": {},
   "outputs": [
    {
     "data": {
      "text/plain": [
       "array([[ 6, 11, 26, 12, 11],\n",
       "       [10,  3, 18,  6, 28],\n",
       "       [28, 19, 20, 19, 21],\n",
       "       [10, 29, 23, 30, 28],\n",
       "       [25,  4,  8, 13,  6],\n",
       "       [ 7, 10, 26, 30,  9],\n",
       "       [23, 16, 24,  7,  7],\n",
       "       [21, 31, 25, 10, 19],\n",
       "       [17,  6, 24, 15, 29],\n",
       "       [26,  9, 27, 19,  5]], dtype=int32)"
      ]
     },
     "execution_count": 14,
     "metadata": {},
     "output_type": "execute_result"
    }
   ],
   "source": [
    "## Broadcasting\n",
    "bonus = 2\n",
    "points_bonus = points + bonus\n",
    "points_bonus"
   ]
  },
  {
   "cell_type": "code",
   "execution_count": 15,
   "id": "83b66881",
   "metadata": {},
   "outputs": [
    {
     "data": {
      "text/plain": [
       "array([[ 4. , 10.8, 24. , 15. ,  9. ],\n",
       "       [ 8. ,  1.2, 16. ,  6. , 26. ],\n",
       "       [26. , 20.4, 18. , 25.5, 19. ],\n",
       "       [ 8. , 32.4, 21. , 42. , 26. ],\n",
       "       [23. ,  2.4,  6. , 16.5,  4. ],\n",
       "       [ 5. ,  9.6, 24. , 42. ,  7. ],\n",
       "       [21. , 16.8, 22. ,  7.5,  5. ],\n",
       "       [19. , 34.8, 23. , 12. , 17. ],\n",
       "       [15. ,  4.8, 22. , 19.5, 27. ],\n",
       "       [24. ,  8.4, 25. , 25.5,  3. ]])"
      ]
     },
     "execution_count": 15,
     "metadata": {},
     "output_type": "execute_result"
    }
   ],
   "source": [
    "## Vectorized Operation\n",
    "\n",
    "weights = np.array([1, 1.2, 1, 1.5, 1])\n",
    "weighted_points = points*weights\n",
    "weighted_points"
   ]
  },
  {
   "cell_type": "code",
   "execution_count": 17,
   "id": "e047b9ed",
   "metadata": {},
   "outputs": [
    {
     "name": "stdout",
     "output_type": "stream",
     "text": [
      "Total points by each player: [ 56  55  97 110  46  72  67  96  81  76]\n",
      "Average points per game: [15.3 11.8 20.1 14.1 14.3]\n",
      "Overall max score: 29\n"
     ]
    }
   ],
   "source": [
    "## Aggregation - \n",
    "\n",
    "print(\"Total points by each player:\", points.sum(axis=1))\n",
    "print(\"Average points per game:\", points.mean(axis=0))\n",
    "print(\"Overall max score:\", points.max())"
   ]
  },
  {
   "cell_type": "code",
   "execution_count": 19,
   "id": "af2e7851",
   "metadata": {},
   "outputs": [
    {
     "name": "stdout",
     "output_type": "stream",
     "text": [
      "Players who scored > 100 total :  [4]\n",
      "Game 1 scores > 20 :  [26 23 21 24]\n"
     ]
    }
   ],
   "source": [
    "## Boolean masking and filtering\n",
    "print(\"Players who scored > 100 total : \", players[points.sum(axis=1)>100])\n",
    "print(\"Game 1 scores > 20 : \", points[points[:, 0]>20, 0])"
   ]
  },
  {
   "cell_type": "code",
   "execution_count": 25,
   "id": "7ad3663e",
   "metadata": {},
   "outputs": [
    {
     "name": "stdout",
     "output_type": "stream",
     "text": [
      "Flattened :  [ 4  9 24 10  9  8  1 16  4 26 26 17 18 17 19]\n",
      "Combined shape :  (20, 5)\n"
     ]
    },
    {
     "data": {
      "text/plain": [
       "array([[ 4,  9, 24, 10,  9],\n",
       "       [ 8,  1, 16,  4, 26],\n",
       "       [26, 17, 18, 17, 19],\n",
       "       [ 8, 27, 21, 28, 26],\n",
       "       [23,  2,  6, 11,  4],\n",
       "       [ 5,  8, 24, 28,  7],\n",
       "       [21, 14, 22,  5,  5],\n",
       "       [19, 29, 23,  8, 17],\n",
       "       [15,  4, 22, 13, 27],\n",
       "       [24,  7, 25, 17,  3],\n",
       "       [ 7, 29, 28, 19,  2],\n",
       "       [21,  9, 21, 26, 11],\n",
       "       [24, 25, 16, 15, 19],\n",
       "       [13,  1, 11, 13, 17],\n",
       "       [25, 10, 12,  0, 13],\n",
       "       [ 8, 20,  8, 20, 21],\n",
       "       [29, 19, 20,  9, 21],\n",
       "       [21,  3, 18, 16,  0],\n",
       "       [29,  7, 23, 29, 20],\n",
       "       [28,  1, 15, 23,  7]], dtype=int32)"
      ]
     },
     "execution_count": 25,
     "metadata": {},
     "output_type": "execute_result"
    }
   ],
   "source": [
    "## Reshaping and stacking - \n",
    "flat = points.flatten()\n",
    "print(\"Flattened : \", flat[:15])\n",
    "\n",
    "# reshaped = points.reshape(5, 10)\n",
    "# reshaped\n",
    "\n",
    "points_team2 = np.random.randint(0, 30, size=(10,5))\n",
    "combined = np.vstack([points, points_team2])\n",
    "print(\"Combined shape : \", combined.shape)\n",
    "combined"
   ]
  },
  {
   "cell_type": "code",
   "execution_count": 28,
   "id": "6070d96b",
   "metadata": {},
   "outputs": [
    {
     "name": "stdout",
     "output_type": "stream",
     "text": [
      "Corelation shape :  (10, 10)\n"
     ]
    },
    {
     "data": {
      "text/plain": [
       "array([[ 1.        ,  0.27285159, -0.49517597,  0.24469947, -0.45487414,\n",
       "         0.63261496,  0.33183193,  0.20026086,  0.3382317 ,  0.35111875],\n",
       "       [ 0.27285159,  1.        ,  0.05236751,  0.01495425, -0.22374009,\n",
       "        -0.15214904, -0.15874697, -0.10528236,  0.95198282, -0.22731368],\n",
       "       [-0.49517597,  0.05236751,  1.        , -0.95054715,  0.86959575,\n",
       "        -0.55288356,  0.48156856, -0.02044961,  0.12450006,  0.43097171],\n",
       "       [ 0.24469947,  0.01495425, -0.95054715,  1.        , -0.84780704,\n",
       "         0.39945551, -0.71637503, -0.10900703, -0.08909587, -0.64621173],\n",
       "       [-0.45487414, -0.22374009,  0.86959575, -0.84780704,  1.        ,\n",
       "        -0.14232421,  0.36552211, -0.36097985, -0.03103185,  0.64747946],\n",
       "       [ 0.63261496, -0.15214904, -0.55288356,  0.39945551, -0.14232421,\n",
       "         1.        , -0.12620978, -0.4813173 ,  0.0570517 ,  0.41961506],\n",
       "       [ 0.33183193, -0.15874697,  0.48156856, -0.71637503,  0.36552211,\n",
       "        -0.12620978,  1.        ,  0.58326109, -0.10432604,  0.71309395],\n",
       "       [ 0.20026086, -0.10528236, -0.02044961, -0.10900703, -0.36097985,\n",
       "        -0.4813173 ,  0.58326109,  1.        , -0.31143746, -0.12420795],\n",
       "       [ 0.3382317 ,  0.95198282,  0.12450006, -0.08909587, -0.03103185,\n",
       "         0.0570517 , -0.10432604, -0.31143746,  1.        ,  0.02518584],\n",
       "       [ 0.35111875, -0.22731368,  0.43097171, -0.64621173,  0.64747946,\n",
       "         0.41961506,  0.71309395, -0.12420795,  0.02518584,  1.        ]])"
      ]
     },
     "execution_count": 28,
     "metadata": {},
     "output_type": "execute_result"
    }
   ],
   "source": [
    "## Liner algebra - \n",
    "\n",
    "corr = np.corrcoef(points)\n",
    "print(\"Corelation shape : \", corr.shape)\n",
    "corr"
   ]
  },
  {
   "cell_type": "code",
   "execution_count": 29,
   "id": "15c255a9",
   "metadata": {},
   "outputs": [
    {
     "name": "stdout",
     "output_type": "stream",
     "text": [
      "Player 1 weighted :  62.8\n"
     ]
    }
   ],
   "source": [
    "## Dot product - \n",
    "print(\"Player 1 weighted : \", np.dot(points[0], weights))"
   ]
  },
  {
   "cell_type": "code",
   "execution_count": 32,
   "id": "87c00e02",
   "metadata": {},
   "outputs": [
    {
     "data": {
      "text/plain": [
       "array([[17.48357077, 14.30867849, 18.23844269, 22.61514928, 13.82923313],\n",
       "       [13.82931522, 22.89606408, 18.83717365, 12.65262807, 17.71280022],\n",
       "       [12.68291154, 12.67135123, 16.20981136,  5.43359878,  6.37541084],\n",
       "       [12.18856235,  9.9358444 , 16.57123666, 10.45987962,  7.93848149],\n",
       "       [22.32824384, 13.8711185 , 15.33764102,  7.87625907, 12.27808638],\n",
       "       [15.55461295,  9.24503211, 16.87849009, 11.99680655, 13.54153125],\n",
       "       [11.99146694, 24.26139092, 14.93251388,  9.71144536, 19.11272456],\n",
       "       [ 8.89578175, 16.04431798,  5.20164938,  8.35906976, 15.98430618],\n",
       "       [18.6923329 , 15.85684141, 14.42175859, 13.49448152,  7.60739005],\n",
       "       [11.40077896, 12.69680615, 20.28561113, 16.71809145,  6.18479922]])"
      ]
     },
     "execution_count": 32,
     "metadata": {},
     "output_type": "execute_result"
    }
   ],
   "source": [
    "## Random and reproducibility - \n",
    "\n",
    "np.random.seed(42)\n",
    "random_scores = np.random.normal(loc=15, scale=5, size=(10,5))\n",
    "random_scores"
   ]
  },
  {
   "cell_type": "code",
   "execution_count": null,
   "id": "faf3de93",
   "metadata": {},
   "outputs": [],
   "source": []
  }
 ],
 "metadata": {
  "kernelspec": {
   "display_name": "Python 3",
   "language": "python",
   "name": "python3"
  },
  "language_info": {
   "codemirror_mode": {
    "name": "ipython",
    "version": 3
   },
   "file_extension": ".py",
   "mimetype": "text/x-python",
   "name": "python",
   "nbconvert_exporter": "python",
   "pygments_lexer": "ipython3",
   "version": "3.11.1"
  }
 },
 "nbformat": 4,
 "nbformat_minor": 5
}
