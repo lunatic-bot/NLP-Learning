{
  "cells": [
    {
      "cell_type": "markdown",
      "metadata": {
        "id": "eHNf7J680XF-"
      },
      "source": [
        "### Word Embedding Techniques using Embedding Layer in Keras"
      ]
    },
    {
      "cell_type": "code",
      "execution_count": 1,
      "metadata": {
        "id": "PEsK0_yl0XGB"
      },
      "outputs": [],
      "source": [
        "### Libraries USed Tensorflow> 2.0  and keras"
      ]
    },
    {
      "cell_type": "code",
      "execution_count": 3,
      "metadata": {
        "colab": {
          "base_uri": "https://localhost:8080/"
        },
        "id": "pslw1Ya90XGC",
        "outputId": "de66f2dd-43d6-4477-9fb8-4ed421b4cbe4"
      },
      "outputs": [
        {
          "name": "stdout",
          "output_type": "stream",
          "text": [
            "Requirement already satisfied: tensorflow in c:\\users\\atalb\\appdata\\local\\programs\\python\\python311\\lib\\site-packages (2.13.0)\n",
            "Requirement already satisfied: tensorflow-intel==2.13.0 in c:\\users\\atalb\\appdata\\local\\programs\\python\\python311\\lib\\site-packages (from tensorflow) (2.13.0)\n",
            "Requirement already satisfied: absl-py>=1.0.0 in c:\\users\\atalb\\appdata\\local\\programs\\python\\python311\\lib\\site-packages (from tensorflow-intel==2.13.0->tensorflow) (1.4.0)\n",
            "Requirement already satisfied: astunparse>=1.6.0 in c:\\users\\atalb\\appdata\\local\\programs\\python\\python311\\lib\\site-packages (from tensorflow-intel==2.13.0->tensorflow) (1.6.3)\n",
            "Requirement already satisfied: flatbuffers>=23.1.21 in c:\\users\\atalb\\appdata\\local\\programs\\python\\python311\\lib\\site-packages (from tensorflow-intel==2.13.0->tensorflow) (23.5.26)\n",
            "Requirement already satisfied: gast<=0.4.0,>=0.2.1 in c:\\users\\atalb\\appdata\\local\\programs\\python\\python311\\lib\\site-packages (from tensorflow-intel==2.13.0->tensorflow) (0.4.0)\n",
            "Requirement already satisfied: google-pasta>=0.1.1 in c:\\users\\atalb\\appdata\\local\\programs\\python\\python311\\lib\\site-packages (from tensorflow-intel==2.13.0->tensorflow) (0.2.0)\n",
            "Requirement already satisfied: h5py>=2.9.0 in c:\\users\\atalb\\appdata\\local\\programs\\python\\python311\\lib\\site-packages (from tensorflow-intel==2.13.0->tensorflow) (3.9.0)\n",
            "Requirement already satisfied: libclang>=13.0.0 in c:\\users\\atalb\\appdata\\local\\programs\\python\\python311\\lib\\site-packages (from tensorflow-intel==2.13.0->tensorflow) (16.0.6)\n",
            "Requirement already satisfied: numpy<=1.24.3,>=1.22 in c:\\users\\atalb\\appdata\\local\\programs\\python\\python311\\lib\\site-packages (from tensorflow-intel==2.13.0->tensorflow) (1.24.2)\n",
            "Requirement already satisfied: opt-einsum>=2.3.2 in c:\\users\\atalb\\appdata\\local\\programs\\python\\python311\\lib\\site-packages (from tensorflow-intel==2.13.0->tensorflow) (3.3.0)\n",
            "Requirement already satisfied: packaging in c:\\users\\atalb\\appdata\\roaming\\python\\python311\\site-packages (from tensorflow-intel==2.13.0->tensorflow) (23.1)\n",
            "Requirement already satisfied: protobuf!=4.21.0,!=4.21.1,!=4.21.2,!=4.21.3,!=4.21.4,!=4.21.5,<5.0.0dev,>=3.20.3 in c:\\users\\atalb\\appdata\\local\\programs\\python\\python311\\lib\\site-packages (from tensorflow-intel==2.13.0->tensorflow) (3.20.3)\n",
            "Requirement already satisfied: setuptools in c:\\users\\atalb\\appdata\\local\\programs\\python\\python311\\lib\\site-packages (from tensorflow-intel==2.13.0->tensorflow) (65.5.0)\n",
            "Requirement already satisfied: six>=1.12.0 in c:\\users\\atalb\\appdata\\roaming\\python\\python311\\site-packages (from tensorflow-intel==2.13.0->tensorflow) (1.16.0)\n",
            "Requirement already satisfied: termcolor>=1.1.0 in c:\\users\\atalb\\appdata\\local\\programs\\python\\python311\\lib\\site-packages (from tensorflow-intel==2.13.0->tensorflow) (2.3.0)\n",
            "Requirement already satisfied: typing-extensions<4.6.0,>=3.6.6 in c:\\users\\atalb\\appdata\\local\\programs\\python\\python311\\lib\\site-packages (from tensorflow-intel==2.13.0->tensorflow) (4.5.0)\n",
            "Requirement already satisfied: wrapt>=1.11.0 in c:\\users\\atalb\\appdata\\local\\programs\\python\\python311\\lib\\site-packages (from tensorflow-intel==2.13.0->tensorflow) (1.15.0)\n",
            "Requirement already satisfied: grpcio<2.0,>=1.24.3 in c:\\users\\atalb\\appdata\\local\\programs\\python\\python311\\lib\\site-packages (from tensorflow-intel==2.13.0->tensorflow) (1.56.2)\n",
            "Requirement already satisfied: tensorboard<2.14,>=2.13 in c:\\users\\atalb\\appdata\\local\\programs\\python\\python311\\lib\\site-packages (from tensorflow-intel==2.13.0->tensorflow) (2.13.0)\n",
            "Requirement already satisfied: tensorflow-estimator<2.14,>=2.13.0 in c:\\users\\atalb\\appdata\\local\\programs\\python\\python311\\lib\\site-packages (from tensorflow-intel==2.13.0->tensorflow) (2.13.0)\n",
            "Requirement already satisfied: keras<2.14,>=2.13.1 in c:\\users\\atalb\\appdata\\local\\programs\\python\\python311\\lib\\site-packages (from tensorflow-intel==2.13.0->tensorflow) (2.13.1)\n",
            "Requirement already satisfied: tensorflow-io-gcs-filesystem>=0.23.1 in c:\\users\\atalb\\appdata\\local\\programs\\python\\python311\\lib\\site-packages (from tensorflow-intel==2.13.0->tensorflow) (0.31.0)\n",
            "Requirement already satisfied: wheel<1.0,>=0.23.0 in c:\\users\\atalb\\appdata\\local\\programs\\python\\python311\\lib\\site-packages (from astunparse>=1.6.0->tensorflow-intel==2.13.0->tensorflow) (0.41.0)\n",
            "Requirement already satisfied: google-auth<3,>=1.6.3 in c:\\users\\atalb\\appdata\\local\\programs\\python\\python311\\lib\\site-packages (from tensorboard<2.14,>=2.13->tensorflow-intel==2.13.0->tensorflow) (2.22.0)\n",
            "Requirement already satisfied: google-auth-oauthlib<1.1,>=0.5 in c:\\users\\atalb\\appdata\\local\\programs\\python\\python311\\lib\\site-packages (from tensorboard<2.14,>=2.13->tensorflow-intel==2.13.0->tensorflow) (1.0.0)\n",
            "Requirement already satisfied: markdown>=2.6.8 in c:\\users\\atalb\\appdata\\local\\programs\\python\\python311\\lib\\site-packages (from tensorboard<2.14,>=2.13->tensorflow-intel==2.13.0->tensorflow) (3.4.4)\n",
            "Requirement already satisfied: requests<3,>=2.21.0 in c:\\users\\atalb\\appdata\\local\\programs\\python\\python311\\lib\\site-packages (from tensorboard<2.14,>=2.13->tensorflow-intel==2.13.0->tensorflow) (2.31.0)\n",
            "Requirement already satisfied: tensorboard-data-server<0.8.0,>=0.7.0 in c:\\users\\atalb\\appdata\\local\\programs\\python\\python311\\lib\\site-packages (from tensorboard<2.14,>=2.13->tensorflow-intel==2.13.0->tensorflow) (0.7.1)\n",
            "Requirement already satisfied: werkzeug>=1.0.1 in c:\\users\\atalb\\appdata\\local\\programs\\python\\python311\\lib\\site-packages (from tensorboard<2.14,>=2.13->tensorflow-intel==2.13.0->tensorflow) (2.2.3)\n",
            "Requirement already satisfied: cachetools<6.0,>=2.0.0 in c:\\users\\atalb\\appdata\\local\\programs\\python\\python311\\lib\\site-packages (from google-auth<3,>=1.6.3->tensorboard<2.14,>=2.13->tensorflow-intel==2.13.0->tensorflow) (5.3.1)\n",
            "Requirement already satisfied: pyasn1-modules>=0.2.1 in c:\\users\\atalb\\appdata\\local\\programs\\python\\python311\\lib\\site-packages (from google-auth<3,>=1.6.3->tensorboard<2.14,>=2.13->tensorflow-intel==2.13.0->tensorflow) (0.3.0)\n",
            "Requirement already satisfied: rsa<5,>=3.1.4 in c:\\users\\atalb\\appdata\\local\\programs\\python\\python311\\lib\\site-packages (from google-auth<3,>=1.6.3->tensorboard<2.14,>=2.13->tensorflow-intel==2.13.0->tensorflow) (4.9)\n",
            "Requirement already satisfied: urllib3<2.0 in c:\\users\\atalb\\appdata\\local\\programs\\python\\python311\\lib\\site-packages (from google-auth<3,>=1.6.3->tensorboard<2.14,>=2.13->tensorflow-intel==2.13.0->tensorflow) (1.26.15)\n",
            "Requirement already satisfied: requests-oauthlib>=0.7.0 in c:\\users\\atalb\\appdata\\local\\programs\\python\\python311\\lib\\site-packages (from google-auth-oauthlib<1.1,>=0.5->tensorboard<2.14,>=2.13->tensorflow-intel==2.13.0->tensorflow) (1.3.1)\n",
            "Requirement already satisfied: charset-normalizer<4,>=2 in c:\\users\\atalb\\appdata\\local\\programs\\python\\python311\\lib\\site-packages (from requests<3,>=2.21.0->tensorboard<2.14,>=2.13->tensorflow-intel==2.13.0->tensorflow) (3.1.0)\n",
            "Requirement already satisfied: idna<4,>=2.5 in c:\\users\\atalb\\appdata\\local\\programs\\python\\python311\\lib\\site-packages (from requests<3,>=2.21.0->tensorboard<2.14,>=2.13->tensorflow-intel==2.13.0->tensorflow) (3.4)\n",
            "Requirement already satisfied: certifi>=2017.4.17 in c:\\users\\atalb\\appdata\\local\\programs\\python\\python311\\lib\\site-packages (from requests<3,>=2.21.0->tensorboard<2.14,>=2.13->tensorflow-intel==2.13.0->tensorflow) (2022.12.7)\n",
            "Requirement already satisfied: MarkupSafe>=2.1.1 in c:\\users\\atalb\\appdata\\local\\programs\\python\\python311\\lib\\site-packages (from werkzeug>=1.0.1->tensorboard<2.14,>=2.13->tensorflow-intel==2.13.0->tensorflow) (2.1.2)\n",
            "Requirement already satisfied: pyasn1<0.6.0,>=0.4.6 in c:\\users\\atalb\\appdata\\local\\programs\\python\\python311\\lib\\site-packages (from pyasn1-modules>=0.2.1->google-auth<3,>=1.6.3->tensorboard<2.14,>=2.13->tensorflow-intel==2.13.0->tensorflow) (0.5.0)\n",
            "Requirement already satisfied: oauthlib>=3.0.0 in c:\\users\\atalb\\appdata\\local\\programs\\python\\python311\\lib\\site-packages (from requests-oauthlib>=0.7.0->google-auth-oauthlib<1.1,>=0.5->tensorboard<2.14,>=2.13->tensorflow-intel==2.13.0->tensorflow) (3.2.2)\n"
          ]
        },
        {
          "name": "stderr",
          "output_type": "stream",
          "text": [
            "\n",
            "[notice] A new release of pip is available: 23.0.1 -> 25.1.1\n",
            "[notice] To update, run: python.exe -m pip install --upgrade pip\n"
          ]
        }
      ],
      "source": [
        "!pip install tensorflow"
      ]
    },
    {
      "cell_type": "code",
      "execution_count": 4,
      "metadata": {
        "colab": {
          "base_uri": "https://localhost:8080/"
        },
        "id": "yZ5hceiMAX7n",
        "outputId": "f8adfe31-96ee-4fa1-b3b9-17edc8bb3ee8"
      },
      "outputs": [
        {
          "name": "stdout",
          "output_type": "stream",
          "text": [
            "2.13.0\n"
          ]
        }
      ],
      "source": [
        "import tensorflow as tf\n",
        "print(tf.__version__)"
      ]
    },
    {
      "cell_type": "code",
      "execution_count": 5,
      "metadata": {
        "id": "k4nKifUl0XGC"
      },
      "outputs": [],
      "source": [
        "##tensorflow >2.0\n",
        "from tensorflow.keras.preprocessing.text import one_hot"
      ]
    },
    {
      "cell_type": "code",
      "execution_count": null,
      "metadata": {
        "id": "hADTdqZTAUfS"
      },
      "outputs": [],
      "source": []
    },
    {
      "cell_type": "code",
      "execution_count": 6,
      "metadata": {
        "id": "Fu9PuYeu0XGD"
      },
      "outputs": [],
      "source": [
        "### sentences\n",
        "sent=[  'the glass of milk',\n",
        "     'the glass of juice',\n",
        "     'the cup of tea',\n",
        "    'I am a good boy',\n",
        "     'I am a good developer',\n",
        "     'understand the meaning of words',\n",
        "     'your videos are good']"
      ]
    },
    {
      "cell_type": "code",
      "execution_count": 7,
      "metadata": {
        "colab": {
          "base_uri": "https://localhost:8080/"
        },
        "id": "x5d1D3_20XGD",
        "outputId": "3e3abb89-c992-4620-b332-696d5728fa3d"
      },
      "outputs": [
        {
          "data": {
            "text/plain": [
              "['the glass of milk',\n",
              " 'the glass of juice',\n",
              " 'the cup of tea',\n",
              " 'I am a good boy',\n",
              " 'I am a good developer',\n",
              " 'understand the meaning of words',\n",
              " 'your videos are good']"
            ]
          },
          "execution_count": 7,
          "metadata": {},
          "output_type": "execute_result"
        }
      ],
      "source": [
        "sent"
      ]
    },
    {
      "cell_type": "code",
      "execution_count": 8,
      "metadata": {
        "id": "tjnXIn3B0XGE"
      },
      "outputs": [],
      "source": [
        "### Vocabulary size\n",
        "voc_size=500"
      ]
    },
    {
      "cell_type": "markdown",
      "metadata": {
        "id": "-vQOdeKk0XGE"
      },
      "source": [
        "#### One Hot Representation"
      ]
    },
    {
      "cell_type": "code",
      "execution_count": 9,
      "metadata": {
        "colab": {
          "base_uri": "https://localhost:8080/"
        },
        "id": "gojfZpAW0XGE",
        "outputId": "edd9dce0-84d3-4fe5-a371-121ccdb726bc"
      },
      "outputs": [
        {
          "name": "stdout",
          "output_type": "stream",
          "text": [
            "[[275, 299, 177, 361], [275, 299, 177, 364], [275, 320, 177, 308], [346, 134, 428, 378, 39], [346, 134, 428, 378, 214], [12, 275, 383, 177, 294], [499, 252, 455, 378]]\n"
          ]
        }
      ],
      "source": [
        "onehot_repr=[one_hot(words,voc_size)for words in sent]\n",
        "print(onehot_repr)"
      ]
    },
    {
      "cell_type": "markdown",
      "metadata": {
        "id": "eYG267x40XGF"
      },
      "source": [
        "### Word Embedding Represntation"
      ]
    },
    {
      "cell_type": "code",
      "execution_count": 10,
      "metadata": {
        "id": "wpqPm0tb0XGF"
      },
      "outputs": [],
      "source": [
        "from tensorflow.keras.layers import Embedding\n",
        "from tensorflow.keras.preprocessing.sequence import pad_sequences\n",
        "from tensorflow.keras.models import Sequential"
      ]
    },
    {
      "cell_type": "code",
      "execution_count": 11,
      "metadata": {
        "id": "Rov3GTM00XGG"
      },
      "outputs": [],
      "source": [
        "import numpy as np"
      ]
    },
    {
      "cell_type": "code",
      "execution_count": 12,
      "metadata": {
        "colab": {
          "base_uri": "https://localhost:8080/"
        },
        "id": "8fQLPw6p0XGG",
        "outputId": "ce86ec66-da15-4988-e300-ff72eeb229ff"
      },
      "outputs": [
        {
          "name": "stdout",
          "output_type": "stream",
          "text": [
            "[[  0   0   0   0 275 299 177 361]\n",
            " [  0   0   0   0 275 299 177 364]\n",
            " [  0   0   0   0 275 320 177 308]\n",
            " [  0   0   0 346 134 428 378  39]\n",
            " [  0   0   0 346 134 428 378 214]\n",
            " [  0   0   0  12 275 383 177 294]\n",
            " [  0   0   0   0 499 252 455 378]]\n"
          ]
        }
      ],
      "source": [
        "## pre padding\n",
        "sent_length=8\n",
        "embedded_docs=pad_sequences(onehot_repr,padding='pre',maxlen=sent_length)\n",
        "print(embedded_docs)"
      ]
    },
    {
      "cell_type": "code",
      "execution_count": 13,
      "metadata": {
        "id": "yjQqBYac0XGG"
      },
      "outputs": [],
      "source": [
        "## 10 feature dimesnions\n",
        "dim=10\n"
      ]
    },
    {
      "cell_type": "code",
      "execution_count": 14,
      "metadata": {
        "id": "ozC-TXrt0XGG"
      },
      "outputs": [],
      "source": [
        "model=Sequential()\n",
        "model.add(Embedding(voc_size,10,input_length=sent_length))\n",
        "model.compile('adam','mse')"
      ]
    },
    {
      "cell_type": "code",
      "execution_count": 15,
      "metadata": {
        "colab": {
          "base_uri": "https://localhost:8080/"
        },
        "id": "tMNvq-Ji0XGH",
        "outputId": "8bde65d1-06cf-4f8b-9767-28077ff2aeca"
      },
      "outputs": [
        {
          "name": "stdout",
          "output_type": "stream",
          "text": [
            "Model: \"sequential\"\n",
            "_________________________________________________________________\n",
            " Layer (type)                Output Shape              Param #   \n",
            "=================================================================\n",
            " embedding (Embedding)       (None, 8, 10)             5000      \n",
            "                                                                 \n",
            "=================================================================\n",
            "Total params: 5000 (19.53 KB)\n",
            "Trainable params: 5000 (19.53 KB)\n",
            "Non-trainable params: 0 (0.00 Byte)\n",
            "_________________________________________________________________\n"
          ]
        }
      ],
      "source": [
        "model.summary()"
      ]
    },
    {
      "cell_type": "code",
      "execution_count": 16,
      "metadata": {
        "colab": {
          "base_uri": "https://localhost:8080/"
        },
        "id": "FC4Ess_FEcb3",
        "outputId": "e35d2a7c-ff4b-4332-c2c2-dc32249595a6"
      },
      "outputs": [
        {
          "data": {
            "text/plain": [
              "array([  0,   0,   0,   0, 275, 299, 177, 361])"
            ]
          },
          "execution_count": 16,
          "metadata": {},
          "output_type": "execute_result"
        }
      ],
      "source": [
        "##'the glass of milk',\n",
        "embedded_docs[0]"
      ]
    },
    {
      "cell_type": "code",
      "execution_count": 17,
      "metadata": {
        "colab": {
          "base_uri": "https://localhost:8080/"
        },
        "id": "bRqEvMBYEZUS",
        "outputId": "021bd422-238e-4a3f-daa2-09323ef3153a"
      },
      "outputs": [
        {
          "name": "stdout",
          "output_type": "stream",
          "text": [
            "1/1 [==============================] - 0s 318ms/step\n"
          ]
        },
        {
          "data": {
            "text/plain": [
              "array([[-0.00480906,  0.00471622, -0.04356424, -0.0140356 , -0.00133337,\n",
              "        -0.01865225,  0.03476957,  0.01611543, -0.0014398 , -0.02882995],\n",
              "       [-0.00480906,  0.00471622, -0.04356424, -0.0140356 , -0.00133337,\n",
              "        -0.01865225,  0.03476957,  0.01611543, -0.0014398 , -0.02882995],\n",
              "       [-0.00480906,  0.00471622, -0.04356424, -0.0140356 , -0.00133337,\n",
              "        -0.01865225,  0.03476957,  0.01611543, -0.0014398 , -0.02882995],\n",
              "       [-0.00480906,  0.00471622, -0.04356424, -0.0140356 , -0.00133337,\n",
              "        -0.01865225,  0.03476957,  0.01611543, -0.0014398 , -0.02882995],\n",
              "       [ 0.01147298, -0.01466576, -0.00783487, -0.02551963, -0.02508037,\n",
              "        -0.0115932 , -0.02833921, -0.04328271, -0.04807395,  0.02363879],\n",
              "       [-0.02156421, -0.01743867,  0.0058993 , -0.03681654,  0.02154856,\n",
              "         0.00935637, -0.01652386, -0.02215796,  0.03750986, -0.03689753],\n",
              "       [ 0.04422344, -0.02944503, -0.02354667,  0.0357141 , -0.04980476,\n",
              "        -0.03795732,  0.00607185, -0.01719254, -0.01655592,  0.01541667],\n",
              "       [ 0.02022408, -0.01904036,  0.00800767, -0.03566771,  0.0445364 ,\n",
              "         0.01678676,  0.01154811, -0.01468028, -0.04870528, -0.03988697]],\n",
              "      dtype=float32)"
            ]
          },
          "execution_count": 17,
          "metadata": {},
          "output_type": "execute_result"
        }
      ],
      "source": [
        "model.predict(embedded_docs[0])"
      ]
    },
    {
      "cell_type": "code",
      "execution_count": 18,
      "metadata": {
        "colab": {
          "base_uri": "https://localhost:8080/"
        },
        "id": "kzKP69gx0XGH",
        "outputId": "4558c7ab-6692-4aa3-b958-e7bbfeb0474d"
      },
      "outputs": [
        {
          "name": "stdout",
          "output_type": "stream",
          "text": [
            "1/1 [==============================] - 0s 49ms/step\n",
            "[[[-0.00480906  0.00471622 -0.04356424 -0.0140356  -0.00133337\n",
            "   -0.01865225  0.03476957  0.01611543 -0.0014398  -0.02882995]\n",
            "  [-0.00480906  0.00471622 -0.04356424 -0.0140356  -0.00133337\n",
            "   -0.01865225  0.03476957  0.01611543 -0.0014398  -0.02882995]\n",
            "  [-0.00480906  0.00471622 -0.04356424 -0.0140356  -0.00133337\n",
            "   -0.01865225  0.03476957  0.01611543 -0.0014398  -0.02882995]\n",
            "  [-0.00480906  0.00471622 -0.04356424 -0.0140356  -0.00133337\n",
            "   -0.01865225  0.03476957  0.01611543 -0.0014398  -0.02882995]\n",
            "  [ 0.01147298 -0.01466576 -0.00783487 -0.02551963 -0.02508037\n",
            "   -0.0115932  -0.02833921 -0.04328271 -0.04807395  0.02363879]\n",
            "  [-0.02156421 -0.01743867  0.0058993  -0.03681654  0.02154856\n",
            "    0.00935637 -0.01652386 -0.02215796  0.03750986 -0.03689753]\n",
            "  [ 0.04422344 -0.02944503 -0.02354667  0.0357141  -0.04980476\n",
            "   -0.03795732  0.00607185 -0.01719254 -0.01655592  0.01541667]\n",
            "  [ 0.02022408 -0.01904036  0.00800767 -0.03566771  0.0445364\n",
            "    0.01678676  0.01154811 -0.01468028 -0.04870528 -0.03988697]]\n",
            "\n",
            " [[-0.00480906  0.00471622 -0.04356424 -0.0140356  -0.00133337\n",
            "   -0.01865225  0.03476957  0.01611543 -0.0014398  -0.02882995]\n",
            "  [-0.00480906  0.00471622 -0.04356424 -0.0140356  -0.00133337\n",
            "   -0.01865225  0.03476957  0.01611543 -0.0014398  -0.02882995]\n",
            "  [-0.00480906  0.00471622 -0.04356424 -0.0140356  -0.00133337\n",
            "   -0.01865225  0.03476957  0.01611543 -0.0014398  -0.02882995]\n",
            "  [-0.00480906  0.00471622 -0.04356424 -0.0140356  -0.00133337\n",
            "   -0.01865225  0.03476957  0.01611543 -0.0014398  -0.02882995]\n",
            "  [ 0.01147298 -0.01466576 -0.00783487 -0.02551963 -0.02508037\n",
            "   -0.0115932  -0.02833921 -0.04328271 -0.04807395  0.02363879]\n",
            "  [-0.02156421 -0.01743867  0.0058993  -0.03681654  0.02154856\n",
            "    0.00935637 -0.01652386 -0.02215796  0.03750986 -0.03689753]\n",
            "  [ 0.04422344 -0.02944503 -0.02354667  0.0357141  -0.04980476\n",
            "   -0.03795732  0.00607185 -0.01719254 -0.01655592  0.01541667]\n",
            "  [ 0.03367113  0.02976053  0.01624906 -0.00991198 -0.01692752\n",
            "   -0.03517406  0.00959438 -0.00573041 -0.03591572  0.00021398]]\n",
            "\n",
            " [[-0.00480906  0.00471622 -0.04356424 -0.0140356  -0.00133337\n",
            "   -0.01865225  0.03476957  0.01611543 -0.0014398  -0.02882995]\n",
            "  [-0.00480906  0.00471622 -0.04356424 -0.0140356  -0.00133337\n",
            "   -0.01865225  0.03476957  0.01611543 -0.0014398  -0.02882995]\n",
            "  [-0.00480906  0.00471622 -0.04356424 -0.0140356  -0.00133337\n",
            "   -0.01865225  0.03476957  0.01611543 -0.0014398  -0.02882995]\n",
            "  [-0.00480906  0.00471622 -0.04356424 -0.0140356  -0.00133337\n",
            "   -0.01865225  0.03476957  0.01611543 -0.0014398  -0.02882995]\n",
            "  [ 0.01147298 -0.01466576 -0.00783487 -0.02551963 -0.02508037\n",
            "   -0.0115932  -0.02833921 -0.04328271 -0.04807395  0.02363879]\n",
            "  [-0.04311178 -0.01392115  0.01806809  0.04084816  0.01719015\n",
            "   -0.04993472  0.02652815 -0.00712737 -0.0300077   0.04671654]\n",
            "  [ 0.04422344 -0.02944503 -0.02354667  0.0357141  -0.04980476\n",
            "   -0.03795732  0.00607185 -0.01719254 -0.01655592  0.01541667]\n",
            "  [-0.01224748  0.01532651  0.01846072  0.0048702   0.04747584\n",
            "    0.02486445  0.00783254  0.04560807 -0.04110997 -0.02801797]]\n",
            "\n",
            " [[-0.00480906  0.00471622 -0.04356424 -0.0140356  -0.00133337\n",
            "   -0.01865225  0.03476957  0.01611543 -0.0014398  -0.02882995]\n",
            "  [-0.00480906  0.00471622 -0.04356424 -0.0140356  -0.00133337\n",
            "   -0.01865225  0.03476957  0.01611543 -0.0014398  -0.02882995]\n",
            "  [-0.00480906  0.00471622 -0.04356424 -0.0140356  -0.00133337\n",
            "   -0.01865225  0.03476957  0.01611543 -0.0014398  -0.02882995]\n",
            "  [-0.00903865  0.0070001   0.03592307 -0.04532582 -0.01900526\n",
            "   -0.02746999  0.02833042 -0.04982189 -0.00719785 -0.03353258]\n",
            "  [-0.0296779   0.02744083  0.01764741 -0.04951912  0.03207192\n",
            "    0.03357825  0.03981483 -0.00760168 -0.03949524 -0.01390591]\n",
            "  [ 0.04408142  0.02580665  0.00695983 -0.01086314  0.01654526\n",
            "    0.03410038  0.03063234 -0.02931892  0.01443554 -0.04268971]\n",
            "  [ 0.01426014  0.02558902 -0.04693267  0.01214603 -0.03764303\n",
            "    0.0379802   0.0395462   0.04779868  0.01439187 -0.04145712]\n",
            "  [ 0.03972048  0.0001387   0.01097018 -0.00555879  0.0150444\n",
            "    0.0119553   0.0033645   0.04089265  0.00072657  0.02410174]]\n",
            "\n",
            " [[-0.00480906  0.00471622 -0.04356424 -0.0140356  -0.00133337\n",
            "   -0.01865225  0.03476957  0.01611543 -0.0014398  -0.02882995]\n",
            "  [-0.00480906  0.00471622 -0.04356424 -0.0140356  -0.00133337\n",
            "   -0.01865225  0.03476957  0.01611543 -0.0014398  -0.02882995]\n",
            "  [-0.00480906  0.00471622 -0.04356424 -0.0140356  -0.00133337\n",
            "   -0.01865225  0.03476957  0.01611543 -0.0014398  -0.02882995]\n",
            "  [-0.00903865  0.0070001   0.03592307 -0.04532582 -0.01900526\n",
            "   -0.02746999  0.02833042 -0.04982189 -0.00719785 -0.03353258]\n",
            "  [-0.0296779   0.02744083  0.01764741 -0.04951912  0.03207192\n",
            "    0.03357825  0.03981483 -0.00760168 -0.03949524 -0.01390591]\n",
            "  [ 0.04408142  0.02580665  0.00695983 -0.01086314  0.01654526\n",
            "    0.03410038  0.03063234 -0.02931892  0.01443554 -0.04268971]\n",
            "  [ 0.01426014  0.02558902 -0.04693267  0.01214603 -0.03764303\n",
            "    0.0379802   0.0395462   0.04779868  0.01439187 -0.04145712]\n",
            "  [ 0.00888743  0.03842739  0.01830367  0.04898912 -0.04349452\n",
            "   -0.00435785 -0.04181961 -0.0267933   0.0148908  -0.00737915]]\n",
            "\n",
            " [[-0.00480906  0.00471622 -0.04356424 -0.0140356  -0.00133337\n",
            "   -0.01865225  0.03476957  0.01611543 -0.0014398  -0.02882995]\n",
            "  [-0.00480906  0.00471622 -0.04356424 -0.0140356  -0.00133337\n",
            "   -0.01865225  0.03476957  0.01611543 -0.0014398  -0.02882995]\n",
            "  [-0.00480906  0.00471622 -0.04356424 -0.0140356  -0.00133337\n",
            "   -0.01865225  0.03476957  0.01611543 -0.0014398  -0.02882995]\n",
            "  [ 0.04006938  0.02625274 -0.0133897   0.01757553  0.01155261\n",
            "    0.02811516  0.0151891   0.01094574  0.02733607 -0.00305536]\n",
            "  [ 0.01147298 -0.01466576 -0.00783487 -0.02551963 -0.02508037\n",
            "   -0.0115932  -0.02833921 -0.04328271 -0.04807395  0.02363879]\n",
            "  [-0.02239384 -0.03057574 -0.03020092 -0.01208111  0.04950643\n",
            "    0.04902068 -0.00694234  0.04447896 -0.03812512  0.01242189]\n",
            "  [ 0.04422344 -0.02944503 -0.02354667  0.0357141  -0.04980476\n",
            "   -0.03795732  0.00607185 -0.01719254 -0.01655592  0.01541667]\n",
            "  [ 0.01859445  0.00537816  0.03393162  0.04812748  0.01255032\n",
            "    0.00929326 -0.03707566 -0.01794744 -0.04669367 -0.02398312]]\n",
            "\n",
            " [[-0.00480906  0.00471622 -0.04356424 -0.0140356  -0.00133337\n",
            "   -0.01865225  0.03476957  0.01611543 -0.0014398  -0.02882995]\n",
            "  [-0.00480906  0.00471622 -0.04356424 -0.0140356  -0.00133337\n",
            "   -0.01865225  0.03476957  0.01611543 -0.0014398  -0.02882995]\n",
            "  [-0.00480906  0.00471622 -0.04356424 -0.0140356  -0.00133337\n",
            "   -0.01865225  0.03476957  0.01611543 -0.0014398  -0.02882995]\n",
            "  [-0.00480906  0.00471622 -0.04356424 -0.0140356  -0.00133337\n",
            "   -0.01865225  0.03476957  0.01611543 -0.0014398  -0.02882995]\n",
            "  [-0.00027554 -0.01797774 -0.02069125  0.01989524  0.00849128\n",
            "    0.00132145  0.04618918  0.018307    0.04589413 -0.0261932 ]\n",
            "  [ 0.00787697  0.00245576 -0.0246273  -0.02620579  0.0313216\n",
            "    0.0204148  -0.04459105  0.02807994 -0.02717258  0.01001055]\n",
            "  [-0.03416368 -0.02395357  0.04952151  0.028586    0.01775454\n",
            "    0.0098353  -0.01530756  0.0238271  -0.04798042  0.01252462]\n",
            "  [ 0.01426014  0.02558902 -0.04693267  0.01214603 -0.03764303\n",
            "    0.0379802   0.0395462   0.04779868  0.01439187 -0.04145712]]]\n"
          ]
        }
      ],
      "source": [
        "print(model.predict(embedded_docs))"
      ]
    },
    {
      "cell_type": "code",
      "execution_count": 19,
      "metadata": {
        "id": "JuUxfk7d0XGH",
        "outputId": "c28e6fc6-3db2-4975-9dd3-950b7da8c67e"
      },
      "outputs": [
        {
          "data": {
            "text/plain": [
              "array([  0,   0,   0,   0, 275, 299, 177, 361])"
            ]
          },
          "execution_count": 19,
          "metadata": {},
          "output_type": "execute_result"
        }
      ],
      "source": [
        "embedded_docs[0]"
      ]
    },
    {
      "cell_type": "code",
      "execution_count": null,
      "metadata": {
        "id": "6JJ_zD0u0XGH",
        "outputId": "8b2b65cb-457b-46f4-dd60-c5fe8ab0566f"
      },
      "outputs": [
        {
          "name": "stdout",
          "output_type": "stream",
          "text": [
            "[[-0.00425554 -0.00159295 -0.04714153  0.04425247 -0.00973954 -0.04325813\n",
            "   0.04007108 -0.0143286  -0.03659749 -0.02379028]\n",
            " [-0.00425554 -0.00159295 -0.04714153  0.04425247 -0.00973954 -0.04325813\n",
            "   0.04007108 -0.0143286  -0.03659749 -0.02379028]\n",
            " [-0.00425554 -0.00159295 -0.04714153  0.04425247 -0.00973954 -0.04325813\n",
            "   0.04007108 -0.0143286  -0.03659749 -0.02379028]\n",
            " [-0.00425554 -0.00159295 -0.04714153  0.04425247 -0.00973954 -0.04325813\n",
            "   0.04007108 -0.0143286  -0.03659749 -0.02379028]\n",
            " [-0.03786323 -0.02628061  0.02974111 -0.03307171  0.0271405   0.00945134\n",
            "   0.02378127  0.04176904  0.00514941  0.0152082 ]\n",
            " [ 0.04834186  0.04388311 -0.02802253 -0.01475487 -0.01212303  0.03762435\n",
            "  -0.01166249 -0.02141088  0.04654533  0.01537322]\n",
            " [ 0.03276015 -0.00637691  0.03907344 -0.01912468  0.02177186 -0.04630325\n",
            "   0.00800942 -0.03115667 -0.00486455 -0.04843524]\n",
            " [-0.04173617  0.03438064  0.02880521 -0.01896455  0.0323303  -0.00109453\n",
            "  -0.01675171 -0.00941917 -0.03309294 -0.04779492]]\n"
          ]
        }
      ],
      "source": [
        "print(model.predict(embedded_docs)[0])"
      ]
    },
    {
      "cell_type": "code",
      "execution_count": 1,
      "metadata": {
        "id": "8OMu3iAz0XGH"
      },
      "outputs": [],
      "source": [
        "### Assignment\n",
        "\n",
        "sent=[\"The world is a better place\",\n",
        "      \"Marvel series is my favourite movie\",\n",
        "      \"I like DC movies\",\n",
        "      \"the cat is eating the food\",\n",
        "      \"Tom and Jerry is my favourite movie\",\n",
        "      \"Python is my favourite programming language\"\n",
        "      ]"
      ]
    },
    {
      "cell_type": "code",
      "execution_count": 2,
      "metadata": {},
      "outputs": [
        {
          "data": {
            "text/plain": [
              "[[108, 274, 106, 998, 747, 809],\n",
              " [741, 238, 106, 803, 890, 696],\n",
              " [257, 405, 657, 3],\n",
              " [108, 973, 106, 588, 108, 320],\n",
              " [731, 560, 664, 106, 803, 890, 696],\n",
              " [133, 106, 803, 890, 433, 937]]"
            ]
          },
          "execution_count": 2,
          "metadata": {},
          "output_type": "execute_result"
        }
      ],
      "source": [
        "from tensorflow.keras.preprocessing.text import one_hot\n",
        "\n",
        "voc_size = 1000\n",
        "onehot_repr = [one_hot(words, voc_size) for words in sent]\n",
        "onehot_repr"
      ]
    },
    {
      "cell_type": "code",
      "execution_count": 4,
      "metadata": {},
      "outputs": [],
      "source": [
        "from tensorflow.keras.layers import Embedding\n",
        "from tensorflow.keras.preprocessing.sequence import pad_sequences\n",
        "from tensorflow.keras.models import Sequential\n",
        "import numpy as np"
      ]
    },
    {
      "cell_type": "code",
      "execution_count": 5,
      "metadata": {},
      "outputs": [
        {
          "data": {
            "text/plain": [
              "array([[  0,   0,   0,   0,   0,   0,   0,   0,   0,   0,   0,   0,   0,\n",
              "          0, 108, 274, 106, 998, 747, 809],\n",
              "       [  0,   0,   0,   0,   0,   0,   0,   0,   0,   0,   0,   0,   0,\n",
              "          0, 741, 238, 106, 803, 890, 696],\n",
              "       [  0,   0,   0,   0,   0,   0,   0,   0,   0,   0,   0,   0,   0,\n",
              "          0,   0,   0, 257, 405, 657,   3],\n",
              "       [  0,   0,   0,   0,   0,   0,   0,   0,   0,   0,   0,   0,   0,\n",
              "          0, 108, 973, 106, 588, 108, 320],\n",
              "       [  0,   0,   0,   0,   0,   0,   0,   0,   0,   0,   0,   0,   0,\n",
              "        731, 560, 664, 106, 803, 890, 696],\n",
              "       [  0,   0,   0,   0,   0,   0,   0,   0,   0,   0,   0,   0,   0,\n",
              "          0, 133, 106, 803, 890, 433, 937]])"
            ]
          },
          "execution_count": 5,
          "metadata": {},
          "output_type": "execute_result"
        }
      ],
      "source": [
        "sent_length = 20\n",
        "padded_seq = pad_sequences(onehot_repr,padding='pre',maxlen=sent_length)\n",
        "padded_seq"
      ]
    },
    {
      "cell_type": "code",
      "execution_count": 6,
      "metadata": {},
      "outputs": [],
      "source": [
        "model=Sequential()\n",
        "model.add(Embedding(voc_size,15,input_length=sent_length))\n",
        "model.compile('adam','mse')"
      ]
    },
    {
      "cell_type": "code",
      "execution_count": 7,
      "metadata": {},
      "outputs": [
        {
          "name": "stdout",
          "output_type": "stream",
          "text": [
            "Model: \"sequential\"\n",
            "_________________________________________________________________\n",
            " Layer (type)                Output Shape              Param #   \n",
            "=================================================================\n",
            " embedding (Embedding)       (None, 20, 15)            15000     \n",
            "                                                                 \n",
            "=================================================================\n",
            "Total params: 15000 (58.59 KB)\n",
            "Trainable params: 15000 (58.59 KB)\n",
            "Non-trainable params: 0 (0.00 Byte)\n",
            "_________________________________________________________________\n"
          ]
        }
      ],
      "source": [
        "model.summary()"
      ]
    },
    {
      "cell_type": "code",
      "execution_count": 9,
      "metadata": {},
      "outputs": [
        {
          "data": {
            "text/plain": [
              "array([  0,   0,   0,   0,   0,   0,   0,   0,   0,   0,   0,   0,   0,\n",
              "         0, 108, 274, 106, 998, 747, 809])"
            ]
          },
          "execution_count": 9,
          "metadata": {},
          "output_type": "execute_result"
        }
      ],
      "source": [
        "padded_seq[0]"
      ]
    },
    {
      "cell_type": "code",
      "execution_count": 10,
      "metadata": {},
      "outputs": [
        {
          "name": "stdout",
          "output_type": "stream",
          "text": [
            "1/1 [==============================] - 0s 134ms/step\n"
          ]
        },
        {
          "data": {
            "text/plain": [
              "array([[ 0.03209949,  0.02205015, -0.00210519,  0.02513036, -0.03692713,\n",
              "         0.00493582,  0.03697104,  0.0164313 , -0.01036721, -0.02372197,\n",
              "         0.0018056 ,  0.02872724,  0.03148115,  0.01419928, -0.01488467],\n",
              "       [ 0.03209949,  0.02205015, -0.00210519,  0.02513036, -0.03692713,\n",
              "         0.00493582,  0.03697104,  0.0164313 , -0.01036721, -0.02372197,\n",
              "         0.0018056 ,  0.02872724,  0.03148115,  0.01419928, -0.01488467],\n",
              "       [ 0.03209949,  0.02205015, -0.00210519,  0.02513036, -0.03692713,\n",
              "         0.00493582,  0.03697104,  0.0164313 , -0.01036721, -0.02372197,\n",
              "         0.0018056 ,  0.02872724,  0.03148115,  0.01419928, -0.01488467],\n",
              "       [ 0.03209949,  0.02205015, -0.00210519,  0.02513036, -0.03692713,\n",
              "         0.00493582,  0.03697104,  0.0164313 , -0.01036721, -0.02372197,\n",
              "         0.0018056 ,  0.02872724,  0.03148115,  0.01419928, -0.01488467],\n",
              "       [ 0.03209949,  0.02205015, -0.00210519,  0.02513036, -0.03692713,\n",
              "         0.00493582,  0.03697104,  0.0164313 , -0.01036721, -0.02372197,\n",
              "         0.0018056 ,  0.02872724,  0.03148115,  0.01419928, -0.01488467],\n",
              "       [ 0.03209949,  0.02205015, -0.00210519,  0.02513036, -0.03692713,\n",
              "         0.00493582,  0.03697104,  0.0164313 , -0.01036721, -0.02372197,\n",
              "         0.0018056 ,  0.02872724,  0.03148115,  0.01419928, -0.01488467],\n",
              "       [ 0.03209949,  0.02205015, -0.00210519,  0.02513036, -0.03692713,\n",
              "         0.00493582,  0.03697104,  0.0164313 , -0.01036721, -0.02372197,\n",
              "         0.0018056 ,  0.02872724,  0.03148115,  0.01419928, -0.01488467],\n",
              "       [ 0.03209949,  0.02205015, -0.00210519,  0.02513036, -0.03692713,\n",
              "         0.00493582,  0.03697104,  0.0164313 , -0.01036721, -0.02372197,\n",
              "         0.0018056 ,  0.02872724,  0.03148115,  0.01419928, -0.01488467],\n",
              "       [ 0.03209949,  0.02205015, -0.00210519,  0.02513036, -0.03692713,\n",
              "         0.00493582,  0.03697104,  0.0164313 , -0.01036721, -0.02372197,\n",
              "         0.0018056 ,  0.02872724,  0.03148115,  0.01419928, -0.01488467],\n",
              "       [ 0.03209949,  0.02205015, -0.00210519,  0.02513036, -0.03692713,\n",
              "         0.00493582,  0.03697104,  0.0164313 , -0.01036721, -0.02372197,\n",
              "         0.0018056 ,  0.02872724,  0.03148115,  0.01419928, -0.01488467],\n",
              "       [ 0.03209949,  0.02205015, -0.00210519,  0.02513036, -0.03692713,\n",
              "         0.00493582,  0.03697104,  0.0164313 , -0.01036721, -0.02372197,\n",
              "         0.0018056 ,  0.02872724,  0.03148115,  0.01419928, -0.01488467],\n",
              "       [ 0.03209949,  0.02205015, -0.00210519,  0.02513036, -0.03692713,\n",
              "         0.00493582,  0.03697104,  0.0164313 , -0.01036721, -0.02372197,\n",
              "         0.0018056 ,  0.02872724,  0.03148115,  0.01419928, -0.01488467],\n",
              "       [ 0.03209949,  0.02205015, -0.00210519,  0.02513036, -0.03692713,\n",
              "         0.00493582,  0.03697104,  0.0164313 , -0.01036721, -0.02372197,\n",
              "         0.0018056 ,  0.02872724,  0.03148115,  0.01419928, -0.01488467],\n",
              "       [ 0.03209949,  0.02205015, -0.00210519,  0.02513036, -0.03692713,\n",
              "         0.00493582,  0.03697104,  0.0164313 , -0.01036721, -0.02372197,\n",
              "         0.0018056 ,  0.02872724,  0.03148115,  0.01419928, -0.01488467],\n",
              "       [-0.00911035,  0.04874896, -0.03495229, -0.01832607,  0.04568788,\n",
              "         0.00519345, -0.01731085, -0.03329318,  0.03630239,  0.02810657,\n",
              "         0.04236296,  0.02354947, -0.02464074, -0.00020729,  0.02315182],\n",
              "       [ 0.00998616, -0.00847986,  0.01276186, -0.03585957,  0.00675458,\n",
              "         0.02277755, -0.04271034,  0.01940129,  0.00159385, -0.04144732,\n",
              "        -0.01791214,  0.02916669,  0.04670069, -0.03767359,  0.01913616],\n",
              "       [-0.03528974, -0.00471441,  0.04102744,  0.04090896,  0.03512502,\n",
              "        -0.01079202, -0.04686989, -0.03920652,  0.01791321,  0.02998341,\n",
              "        -0.0297984 , -0.02788915, -0.01113137, -0.04347018, -0.02053502],\n",
              "       [ 0.03818576, -0.01026732, -0.00976773, -0.04889203, -0.02684903,\n",
              "         0.01066025,  0.02360008, -0.04685327, -0.01890957, -0.0454424 ,\n",
              "         0.00980664,  0.00992106, -0.01505186, -0.04238372, -0.02835276],\n",
              "       [-0.00132135, -0.00911016, -0.02560713, -0.04156582,  0.03708296,\n",
              "        -0.01652508,  0.02789153, -0.03949749,  0.02389484, -0.0409671 ,\n",
              "        -0.0384174 ,  0.04956582, -0.00153587,  0.03436109,  0.00557322],\n",
              "       [-0.0349193 ,  0.0003872 , -0.02177731, -0.00701351, -0.03751128,\n",
              "        -0.00225674,  0.00125581, -0.02579104, -0.0114191 ,  0.03485867,\n",
              "         0.00403418, -0.02357217,  0.01554317,  0.0211415 , -0.00905261]],\n",
              "      dtype=float32)"
            ]
          },
          "execution_count": 10,
          "metadata": {},
          "output_type": "execute_result"
        }
      ],
      "source": [
        "model.predict(padded_seq[0])"
      ]
    },
    {
      "cell_type": "code",
      "execution_count": 12,
      "metadata": {},
      "outputs": [
        {
          "name": "stdout",
          "output_type": "stream",
          "text": [
            "1/1 [==============================] - 0s 39ms/step\n",
            "[[ 0.03209949  0.02205015 -0.00210519  0.02513036 -0.03692713  0.00493582\n",
            "   0.03697104  0.0164313  -0.01036721 -0.02372197  0.0018056   0.02872724\n",
            "   0.03148115  0.01419928 -0.01488467]\n",
            " [ 0.03209949  0.02205015 -0.00210519  0.02513036 -0.03692713  0.00493582\n",
            "   0.03697104  0.0164313  -0.01036721 -0.02372197  0.0018056   0.02872724\n",
            "   0.03148115  0.01419928 -0.01488467]\n",
            " [ 0.03209949  0.02205015 -0.00210519  0.02513036 -0.03692713  0.00493582\n",
            "   0.03697104  0.0164313  -0.01036721 -0.02372197  0.0018056   0.02872724\n",
            "   0.03148115  0.01419928 -0.01488467]\n",
            " [ 0.03209949  0.02205015 -0.00210519  0.02513036 -0.03692713  0.00493582\n",
            "   0.03697104  0.0164313  -0.01036721 -0.02372197  0.0018056   0.02872724\n",
            "   0.03148115  0.01419928 -0.01488467]\n",
            " [ 0.03209949  0.02205015 -0.00210519  0.02513036 -0.03692713  0.00493582\n",
            "   0.03697104  0.0164313  -0.01036721 -0.02372197  0.0018056   0.02872724\n",
            "   0.03148115  0.01419928 -0.01488467]\n",
            " [ 0.03209949  0.02205015 -0.00210519  0.02513036 -0.03692713  0.00493582\n",
            "   0.03697104  0.0164313  -0.01036721 -0.02372197  0.0018056   0.02872724\n",
            "   0.03148115  0.01419928 -0.01488467]\n",
            " [ 0.03209949  0.02205015 -0.00210519  0.02513036 -0.03692713  0.00493582\n",
            "   0.03697104  0.0164313  -0.01036721 -0.02372197  0.0018056   0.02872724\n",
            "   0.03148115  0.01419928 -0.01488467]\n",
            " [ 0.03209949  0.02205015 -0.00210519  0.02513036 -0.03692713  0.00493582\n",
            "   0.03697104  0.0164313  -0.01036721 -0.02372197  0.0018056   0.02872724\n",
            "   0.03148115  0.01419928 -0.01488467]\n",
            " [ 0.03209949  0.02205015 -0.00210519  0.02513036 -0.03692713  0.00493582\n",
            "   0.03697104  0.0164313  -0.01036721 -0.02372197  0.0018056   0.02872724\n",
            "   0.03148115  0.01419928 -0.01488467]\n",
            " [ 0.03209949  0.02205015 -0.00210519  0.02513036 -0.03692713  0.00493582\n",
            "   0.03697104  0.0164313  -0.01036721 -0.02372197  0.0018056   0.02872724\n",
            "   0.03148115  0.01419928 -0.01488467]\n",
            " [ 0.03209949  0.02205015 -0.00210519  0.02513036 -0.03692713  0.00493582\n",
            "   0.03697104  0.0164313  -0.01036721 -0.02372197  0.0018056   0.02872724\n",
            "   0.03148115  0.01419928 -0.01488467]\n",
            " [ 0.03209949  0.02205015 -0.00210519  0.02513036 -0.03692713  0.00493582\n",
            "   0.03697104  0.0164313  -0.01036721 -0.02372197  0.0018056   0.02872724\n",
            "   0.03148115  0.01419928 -0.01488467]\n",
            " [ 0.03209949  0.02205015 -0.00210519  0.02513036 -0.03692713  0.00493582\n",
            "   0.03697104  0.0164313  -0.01036721 -0.02372197  0.0018056   0.02872724\n",
            "   0.03148115  0.01419928 -0.01488467]\n",
            " [ 0.03209949  0.02205015 -0.00210519  0.02513036 -0.03692713  0.00493582\n",
            "   0.03697104  0.0164313  -0.01036721 -0.02372197  0.0018056   0.02872724\n",
            "   0.03148115  0.01419928 -0.01488467]\n",
            " [-0.00911035  0.04874896 -0.03495229 -0.01832607  0.04568788  0.00519345\n",
            "  -0.01731085 -0.03329318  0.03630239  0.02810657  0.04236296  0.02354947\n",
            "  -0.02464074 -0.00020729  0.02315182]\n",
            " [ 0.00998616 -0.00847986  0.01276186 -0.03585957  0.00675458  0.02277755\n",
            "  -0.04271034  0.01940129  0.00159385 -0.04144732 -0.01791214  0.02916669\n",
            "   0.04670069 -0.03767359  0.01913616]\n",
            " [-0.03528974 -0.00471441  0.04102744  0.04090896  0.03512502 -0.01079202\n",
            "  -0.04686989 -0.03920652  0.01791321  0.02998341 -0.0297984  -0.02788915\n",
            "  -0.01113137 -0.04347018 -0.02053502]\n",
            " [ 0.03818576 -0.01026732 -0.00976773 -0.04889203 -0.02684903  0.01066025\n",
            "   0.02360008 -0.04685327 -0.01890957 -0.0454424   0.00980664  0.00992106\n",
            "  -0.01505186 -0.04238372 -0.02835276]\n",
            " [-0.00132135 -0.00911016 -0.02560713 -0.04156582  0.03708296 -0.01652508\n",
            "   0.02789153 -0.03949749  0.02389484 -0.0409671  -0.0384174   0.04956582\n",
            "  -0.00153587  0.03436109  0.00557322]\n",
            " [-0.0349193   0.0003872  -0.02177731 -0.00701351 -0.03751128 -0.00225674\n",
            "   0.00125581 -0.02579104 -0.0114191   0.03485867  0.00403418 -0.02357217\n",
            "   0.01554317  0.0211415  -0.00905261]]\n"
          ]
        }
      ],
      "source": [
        "print(model.predict(padded_seq)[0])"
      ]
    },
    {
      "cell_type": "code",
      "execution_count": null,
      "metadata": {},
      "outputs": [],
      "source": []
    },
    {
      "cell_type": "code",
      "execution_count": null,
      "metadata": {},
      "outputs": [],
      "source": []
    },
    {
      "cell_type": "code",
      "execution_count": null,
      "metadata": {},
      "outputs": [],
      "source": []
    },
    {
      "cell_type": "code",
      "execution_count": null,
      "metadata": {},
      "outputs": [],
      "source": []
    },
    {
      "cell_type": "code",
      "execution_count": null,
      "metadata": {},
      "outputs": [],
      "source": []
    },
    {
      "cell_type": "code",
      "execution_count": null,
      "metadata": {},
      "outputs": [],
      "source": []
    }
  ],
  "metadata": {
    "accelerator": "GPU",
    "colab": {
      "provenance": []
    },
    "gpuClass": "standard",
    "kernelspec": {
      "display_name": "Python 3",
      "language": "python",
      "name": "python3"
    },
    "language_info": {
      "codemirror_mode": {
        "name": "ipython",
        "version": 3
      },
      "file_extension": ".py",
      "mimetype": "text/x-python",
      "name": "python",
      "nbconvert_exporter": "python",
      "pygments_lexer": "ipython3",
      "version": "3.11.1"
    }
  },
  "nbformat": 4,
  "nbformat_minor": 0
}
